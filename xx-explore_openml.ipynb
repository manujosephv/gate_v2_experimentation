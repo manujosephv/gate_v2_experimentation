{
 "cells": [
  {
   "cell_type": "code",
   "execution_count": 1,
   "metadata": {},
   "outputs": [],
   "source": [
    "import openml"
   ]
  },
  {
   "cell_type": "code",
   "execution_count": 2,
   "metadata": {},
   "outputs": [],
   "source": [
    "openml.config.apikey = \"ed68ba028ad40ab0ec6b16791472d3f0\""
   ]
  },
  {
   "cell_type": "code",
   "execution_count": 3,
   "metadata": {},
   "outputs": [],
   "source": [
    "# SUITE_ID = 336 # Regression on numerical features\n",
    "#SUITE_ID = 337 # Classification on numerical features\n",
    "#SUITE_ID = 335 # Regression on numerical and categorical features\n",
    "SUITE_ID = 334 # Classification on numerical and categorical features\n",
    "benchmark_suite = openml.study.get_suite(SUITE_ID)  # obtain the benchmark suite"
   ]
  },
  {
   "cell_type": "code",
   "execution_count": 6,
   "metadata": {},
   "outputs": [],
   "source": [
    "task = benchmark_suite.tasks[0]"
   ]
  },
  {
   "cell_type": "code",
   "execution_count": 8,
   "metadata": {},
   "outputs": [
    {
     "name": "stderr",
     "output_type": "stream",
     "text": [
      "WARNING:root:Received uncompressed content from OpenML for https://api.openml.org/data/v1/download/22103281/electricity.arff.\n"
     ]
    }
   ],
   "source": [
    "task = openml.tasks.get_task(task)  "
   ]
  },
  {
   "cell_type": "code",
   "execution_count": 11,
   "metadata": {},
   "outputs": [
    {
     "data": {
      "text/plain": [
       "(1, 10, 1)"
      ]
     },
     "execution_count": 11,
     "metadata": {},
     "output_type": "execute_result"
    }
   ],
   "source": []
  },
  {
   "cell_type": "code",
   "execution_count": 12,
   "metadata": {},
   "outputs": [],
   "source": [
    "for task_id in benchmark_suite.tasks:  # iterate over all tasks\n",
    "    task = openml.tasks.get_task(task_id)  # download the OpenML task\n",
    "    dataset = task.get_dataset()\n",
    "    X, y, categorical_indicator, attribute_names = dataset.get_data(\n",
    "        dataset_format=\"dataframe\", target=dataset.default_target_attribute\n",
    "    )\n",
    "    break"
   ]
  },
  {
   "cell_type": "code",
   "execution_count": 19,
   "metadata": {},
   "outputs": [
    {
     "data": {
      "text/plain": [
       "1"
      ]
     },
     "execution_count": 19,
     "metadata": {},
     "output_type": "execute_result"
    }
   ],
   "source": [
    "task.estimation_procedure_id"
   ]
  },
  {
   "cell_type": "code",
   "execution_count": 20,
   "metadata": {},
   "outputs": [],
   "source": [
    "num_reps, num_folds, num_samples = task.get_split_dimensions()"
   ]
  },
  {
   "cell_type": "code",
   "execution_count": 22,
   "metadata": {},
   "outputs": [
    {
     "data": {
      "text/plain": [
       "(1, 10, 1)"
      ]
     },
     "execution_count": 22,
     "metadata": {},
     "output_type": "execute_result"
    }
   ],
   "source": [
    "num_reps, num_folds, num_samples"
   ]
  },
  {
   "cell_type": "code",
   "execution_count": 26,
   "metadata": {},
   "outputs": [
    {
     "data": {
      "text/plain": [
       "(array([ 1504,  7634,  7907, ..., 34502, 21266, 29826], dtype=int32),\n",
       " array([ 3754,  9907, 16444, ..., 31747, 33881, 26981], dtype=int32))"
      ]
     },
     "execution_count": 26,
     "metadata": {},
     "output_type": "execute_result"
    }
   ],
   "source": [
    "task.get_train_test_split_indices(0)"
   ]
  },
  {
   "cell_type": "code",
   "execution_count": 23,
   "metadata": {},
   "outputs": [],
   "source": [
    "import itertools\n",
    "jobs = []\n",
    "for n_fit, (rep_no, fold_no, sample_no) in enumerate(\n",
    "    itertools.product(\n",
    "        range(num_reps),\n",
    "        range(num_folds),\n",
    "        range(num_samples),\n",
    "    ),\n",
    "    start=1,\n",
    "):\n",
    "    jobs.append((n_fit, rep_no, fold_no, sample_no))"
   ]
  },
  {
   "cell_type": "code",
   "execution_count": 24,
   "metadata": {},
   "outputs": [
    {
     "data": {
      "text/plain": [
       "[(1, 0, 0, 0),\n",
       " (2, 0, 1, 0),\n",
       " (3, 0, 2, 0),\n",
       " (4, 0, 3, 0),\n",
       " (5, 0, 4, 0),\n",
       " (6, 0, 5, 0),\n",
       " (7, 0, 6, 0),\n",
       " (8, 0, 7, 0),\n",
       " (9, 0, 8, 0),\n",
       " (10, 0, 9, 0)]"
      ]
     },
     "execution_count": 24,
     "metadata": {},
     "output_type": "execute_result"
    }
   ],
   "source": [
    "jobs"
   ]
  },
  {
   "cell_type": "code",
   "execution_count": null,
   "metadata": {},
   "outputs": [],
   "source": []
  },
  {
   "cell_type": "code",
   "execution_count": 2,
   "metadata": {},
   "outputs": [],
   "source": [
    "import pandas as pd"
   ]
  },
  {
   "cell_type": "code",
   "execution_count": 16,
   "metadata": {},
   "outputs": [
    {
     "name": "stderr",
     "output_type": "stream",
     "text": [
      "/tmp/ipykernel_11993/2339968501.py:1: DtypeWarning: Columns (5,8,25,27,31,33,34,52,53,54,55,60,62,67,78,82,86,92,94,98,99,100,101,102,108,110,119,121,128,129,130,131,132,134,136,141,144) have mixed types. Specify dtype option on import or set low_memory=False.\n",
      "  df = pd.read_csv(\"benchmark_total.csv\")\n"
     ]
    }
   ],
   "source": [
    "df = pd.read_csv(\"benchmark_total.csv\")"
   ]
  },
  {
   "cell_type": "code",
   "execution_count": 17,
   "metadata": {},
   "outputs": [
    {
     "data": {
      "text/html": [
       "<div>\n",
       "<style scoped>\n",
       "    .dataframe tbody tr th:only-of-type {\n",
       "        vertical-align: middle;\n",
       "    }\n",
       "\n",
       "    .dataframe tbody tr th {\n",
       "        vertical-align: top;\n",
       "    }\n",
       "\n",
       "    .dataframe thead th {\n",
       "        text-align: right;\n",
       "    }\n",
       "</style>\n",
       "<table border=\"1\" class=\"dataframe\">\n",
       "  <thead>\n",
       "    <tr style=\"text-align: right;\">\n",
       "      <th></th>\n",
       "      <th>...1</th>\n",
       "      <th>Unnamed: 0</th>\n",
       "      <th>_runtime</th>\n",
       "      <th>_step</th>\n",
       "      <th>_timestamp</th>\n",
       "      <th>_wandb</th>\n",
       "      <th>data__categorical</th>\n",
       "      <th>data__keyword</th>\n",
       "      <th>data__method_name</th>\n",
       "      <th>data__regression</th>\n",
       "      <th>...</th>\n",
       "      <th>...195</th>\n",
       "      <th>...196</th>\n",
       "      <th>...197</th>\n",
       "      <th>...198</th>\n",
       "      <th>...199</th>\n",
       "      <th>...200</th>\n",
       "      <th>...201</th>\n",
       "      <th>...142</th>\n",
       "      <th>...146</th>\n",
       "      <th>...148</th>\n",
       "    </tr>\n",
       "  </thead>\n",
       "  <tbody>\n",
       "    <tr>\n",
       "      <th>0</th>\n",
       "      <td>10.0</td>\n",
       "      <td>10.0</td>\n",
       "      <td>11.961134</td>\n",
       "      <td>0.0</td>\n",
       "      <td>1.672953e+09</td>\n",
       "      <td>{'runtime': 11}</td>\n",
       "      <td>0.0</td>\n",
       "      <td>jannis</td>\n",
       "      <td>openml_no_transform</td>\n",
       "      <td>0.0</td>\n",
       "      <td>...</td>\n",
       "      <td>NaN</td>\n",
       "      <td>NaN</td>\n",
       "      <td>NaN</td>\n",
       "      <td>NaN</td>\n",
       "      <td>NaN</td>\n",
       "      <td>NaN</td>\n",
       "      <td>NaN</td>\n",
       "      <td>NaN</td>\n",
       "      <td>NaN</td>\n",
       "      <td>NaN</td>\n",
       "    </tr>\n",
       "    <tr>\n",
       "      <th>1</th>\n",
       "      <td>12.0</td>\n",
       "      <td>12.0</td>\n",
       "      <td>20.292929</td>\n",
       "      <td>0.0</td>\n",
       "      <td>1.672953e+09</td>\n",
       "      <td>{'runtime': 19}</td>\n",
       "      <td>0.0</td>\n",
       "      <td>electricity</td>\n",
       "      <td>openml_no_transform</td>\n",
       "      <td>0.0</td>\n",
       "      <td>...</td>\n",
       "      <td>NaN</td>\n",
       "      <td>NaN</td>\n",
       "      <td>NaN</td>\n",
       "      <td>NaN</td>\n",
       "      <td>NaN</td>\n",
       "      <td>NaN</td>\n",
       "      <td>NaN</td>\n",
       "      <td>NaN</td>\n",
       "      <td>NaN</td>\n",
       "      <td>NaN</td>\n",
       "    </tr>\n",
       "    <tr>\n",
       "      <th>2</th>\n",
       "      <td>13.0</td>\n",
       "      <td>13.0</td>\n",
       "      <td>10.445445</td>\n",
       "      <td>0.0</td>\n",
       "      <td>1.672953e+09</td>\n",
       "      <td>{'runtime': 9}</td>\n",
       "      <td>0.0</td>\n",
       "      <td>heloc</td>\n",
       "      <td>openml_no_transform</td>\n",
       "      <td>0.0</td>\n",
       "      <td>...</td>\n",
       "      <td>NaN</td>\n",
       "      <td>NaN</td>\n",
       "      <td>NaN</td>\n",
       "      <td>NaN</td>\n",
       "      <td>NaN</td>\n",
       "      <td>NaN</td>\n",
       "      <td>NaN</td>\n",
       "      <td>NaN</td>\n",
       "      <td>NaN</td>\n",
       "      <td>NaN</td>\n",
       "    </tr>\n",
       "    <tr>\n",
       "      <th>3</th>\n",
       "      <td>17.0</td>\n",
       "      <td>17.0</td>\n",
       "      <td>10.317346</td>\n",
       "      <td>0.0</td>\n",
       "      <td>1.672953e+09</td>\n",
       "      <td>{'runtime': 9}</td>\n",
       "      <td>0.0</td>\n",
       "      <td>california</td>\n",
       "      <td>openml_no_transform</td>\n",
       "      <td>0.0</td>\n",
       "      <td>...</td>\n",
       "      <td>NaN</td>\n",
       "      <td>NaN</td>\n",
       "      <td>NaN</td>\n",
       "      <td>NaN</td>\n",
       "      <td>NaN</td>\n",
       "      <td>NaN</td>\n",
       "      <td>NaN</td>\n",
       "      <td>NaN</td>\n",
       "      <td>NaN</td>\n",
       "      <td>NaN</td>\n",
       "    </tr>\n",
       "    <tr>\n",
       "      <th>4</th>\n",
       "      <td>18.0</td>\n",
       "      <td>18.0</td>\n",
       "      <td>24.260395</td>\n",
       "      <td>0.0</td>\n",
       "      <td>1.672953e+09</td>\n",
       "      <td>{'runtime': 23}</td>\n",
       "      <td>0.0</td>\n",
       "      <td>jannis</td>\n",
       "      <td>openml_no_transform</td>\n",
       "      <td>0.0</td>\n",
       "      <td>...</td>\n",
       "      <td>NaN</td>\n",
       "      <td>NaN</td>\n",
       "      <td>NaN</td>\n",
       "      <td>NaN</td>\n",
       "      <td>NaN</td>\n",
       "      <td>NaN</td>\n",
       "      <td>NaN</td>\n",
       "      <td>NaN</td>\n",
       "      <td>NaN</td>\n",
       "      <td>NaN</td>\n",
       "    </tr>\n",
       "  </tbody>\n",
       "</table>\n",
       "<p>5 rows × 204 columns</p>\n",
       "</div>"
      ],
      "text/plain": [
       "   ...1  Unnamed: 0   _runtime  _step    _timestamp           _wandb   \n",
       "0  10.0        10.0  11.961134    0.0  1.672953e+09  {'runtime': 11}  \\\n",
       "1  12.0        12.0  20.292929    0.0  1.672953e+09  {'runtime': 19}   \n",
       "2  13.0        13.0  10.445445    0.0  1.672953e+09   {'runtime': 9}   \n",
       "3  17.0        17.0  10.317346    0.0  1.672953e+09   {'runtime': 9}   \n",
       "4  18.0        18.0  24.260395    0.0  1.672953e+09  {'runtime': 23}   \n",
       "\n",
       "   data__categorical data__keyword    data__method_name  data__regression   \n",
       "0                0.0        jannis  openml_no_transform               0.0  \\\n",
       "1                0.0   electricity  openml_no_transform               0.0   \n",
       "2                0.0         heloc  openml_no_transform               0.0   \n",
       "3                0.0    california  openml_no_transform               0.0   \n",
       "4                0.0        jannis  openml_no_transform               0.0   \n",
       "\n",
       "   ...  ...195 ...196  ...197  ...198  ...199  ...200  ...201  ...142  ...146   \n",
       "0  ...     NaN    NaN     NaN     NaN     NaN     NaN     NaN     NaN     NaN  \\\n",
       "1  ...     NaN    NaN     NaN     NaN     NaN     NaN     NaN     NaN     NaN   \n",
       "2  ...     NaN    NaN     NaN     NaN     NaN     NaN     NaN     NaN     NaN   \n",
       "3  ...     NaN    NaN     NaN     NaN     NaN     NaN     NaN     NaN     NaN   \n",
       "4  ...     NaN    NaN     NaN     NaN     NaN     NaN     NaN     NaN     NaN   \n",
       "\n",
       "   ...148  \n",
       "0     NaN  \n",
       "1     NaN  \n",
       "2     NaN  \n",
       "3     NaN  \n",
       "4     NaN  \n",
       "\n",
       "[5 rows x 204 columns]"
      ]
     },
     "execution_count": 17,
     "metadata": {},
     "output_type": "execute_result"
    }
   ],
   "source": [
    "df.head()"
   ]
  },
  {
   "cell_type": "code",
   "execution_count": 18,
   "metadata": {},
   "outputs": [],
   "source": [
    "# df.loc[\n",
    "#     (df['data__keyword'] == 'Ailerons'),\n",
    "#     ].groupby([\"model_name\",\"data__method_name\"])['max_test_score'].min()"
   ]
  },
  {
   "cell_type": "code",
   "execution_count": 19,
   "metadata": {},
   "outputs": [],
   "source": [
    "df = df.loc[df.data__method_name == \"openml_no_transform\"]\n",
    "df.drop(columns=['data__method_name'], inplace=True)"
   ]
  },
  {
   "cell_type": "code",
   "execution_count": 28,
   "metadata": {},
   "outputs": [
    {
     "name": "stderr",
     "output_type": "stream",
     "text": [
      "/tmp/ipykernel_11993/2326729408.py:2: SettingWithCopyWarning: \n",
      "A value is trying to be set on a copy of a slice from a DataFrame\n",
      "\n",
      "See the caveats in the documentation: https://pandas.pydata.org/pandas-docs/stable/user_guide/indexing.html#returning-a-view-versus-a-copy\n",
      "  df.drop(columns=['transformed_target'], inplace=True)\n"
     ]
    }
   ],
   "source": [
    "df = df.loc[df.transformed_target == 0]\n",
    "df.drop(columns=['transformed_target'], inplace=True)"
   ]
  },
  {
   "cell_type": "code",
   "execution_count": 29,
   "metadata": {},
   "outputs": [],
   "source": [
    "df = df.loc[df.model_name != \"SAINT\"]\n"
   ]
  },
  {
   "cell_type": "code",
   "execution_count": 44,
   "metadata": {},
   "outputs": [],
   "source": [
    "reg_tsks = df.loc[\n",
    "    (df['regression']==1),\n",
    "    ].groupby([\"benchmark\",\"data__keyword\", \"n_features\", \"n_train\", \"model_name\"])['mean_test_score'].max()\n",
    "\n",
    "clf_tsks = df.loc[\n",
    "    (df['regression']==0),\n",
    "    ].groupby([\"benchmark\", \"data__keyword\", \"n_features\", \"n_train\", \"model_name\"])['mean_test_score'].max()"
   ]
  },
  {
   "cell_type": "code",
   "execution_count": 45,
   "metadata": {},
   "outputs": [],
   "source": [
    "reg_tsks.to_clipboard()"
   ]
  },
  {
   "cell_type": "code",
   "execution_count": 48,
   "metadata": {},
   "outputs": [],
   "source": [
    "map = pd.read_clipboard()"
   ]
  },
  {
   "cell_type": "code",
   "execution_count": 54,
   "metadata": {},
   "outputs": [],
   "source": [
    "reg_tsks = reg_tsks.to_frame().reset_index().merge(map, on='model_name', how='left')\n",
    "clf_tsks = clf_tsks.to_frame().reset_index().merge(map, on='model_name', how='left')"
   ]
  },
  {
   "cell_type": "code",
   "execution_count": 58,
   "metadata": {},
   "outputs": [],
   "source": [
    "reg_tsks_an = reg_tsks.groupby([\"benchmark\", \"data__keyword\", \"n_features\", \"n_train\", \"kind\"])['mean_test_score'].max()\n",
    "clf_tsks_an = clf_tsks.groupby([\"benchmark\", \"data__keyword\", \"n_features\", \"n_train\", \"kind\"])['mean_test_score'].max()"
   ]
  },
  {
   "cell_type": "code",
   "execution_count": 74,
   "metadata": {},
   "outputs": [],
   "source": [
    "reg_tsks_an = pd.pivot_table(reg_tsks_an.reset_index(), index=[\"benchmark\", \"data__keyword\", \"n_features\", \"n_train\"], columns=[\"kind\"], values=[\"mean_test_score\"])\n",
    "reg_tsks_an['diff'] = (reg_tsks_an[('mean_test_score', 'ML')] - reg_tsks_an[('mean_test_score', 'DL')]).abs()"
   ]
  },
  {
   "cell_type": "code",
   "execution_count": 76,
   "metadata": {},
   "outputs": [],
   "source": [
    "reg_tsks_an.sort_values(by='diff', ascending=True).to_clipboard()"
   ]
  },
  {
   "cell_type": "code",
   "execution_count": 77,
   "metadata": {},
   "outputs": [],
   "source": [
    "clf_tsks_an = pd.pivot_table(clf_tsks_an.reset_index(), index=[\"benchmark\", \"data__keyword\", \"n_features\", \"n_train\"], columns=[\"kind\"], values=[\"mean_test_score\"])\n",
    "clf_tsks_an['diff'] = (clf_tsks_an[('mean_test_score', 'ML')] - clf_tsks_an[('mean_test_score', 'DL')]).abs()"
   ]
  },
  {
   "cell_type": "code",
   "execution_count": 78,
   "metadata": {},
   "outputs": [],
   "source": [
    "clf_tsks_an.sort_values(by='diff', ascending=True).to_clipboard()"
   ]
  },
  {
   "cell_type": "code",
   "execution_count": null,
   "metadata": {},
   "outputs": [],
   "source": []
  },
  {
   "cell_type": "code",
   "execution_count": null,
   "metadata": {},
   "outputs": [],
   "source": []
  },
  {
   "cell_type": "code",
   "execution_count": 50,
   "metadata": {},
   "outputs": [
    {
     "data": {
      "text/plain": [
       "array([nan, 'gaussienize'], dtype=object)"
      ]
     },
     "execution_count": 50,
     "metadata": {},
     "output_type": "execute_result"
    }
   ],
   "source": [
    "df['transform__0__method_name'].unique()"
   ]
  },
  {
   "cell_type": "code",
   "execution_count": 48,
   "metadata": {},
   "outputs": [
    {
     "data": {
      "text/plain": [
       "max_val_score    0.709172\n",
       "dtype: float64"
      ]
     },
     "execution_count": 48,
     "metadata": {},
     "output_type": "execute_result"
    }
   ],
   "source": [
    "df.loc[\n",
    "    (df['data__keyword'] == 'compas-two-years')&\n",
    "    (df['model_name'] == 'XGBoost'),\n",
    "    ['max_val_score']\n",
    "    ].max()"
   ]
  },
  {
   "cell_type": "code",
   "execution_count": 53,
   "metadata": {},
   "outputs": [
    {
     "data": {
      "text/plain": [
       "model_name      transform__0__method_name\n",
       "FT Transformer  gaussienize                  17463\n",
       "MLP             gaussienize                  16196\n",
       "Resnet          gaussienize                  18530\n",
       "SAINT           gaussienize                  26308\n",
       "Name: data__keyword, dtype: int64"
      ]
     },
     "execution_count": 53,
     "metadata": {},
     "output_type": "execute_result"
    }
   ],
   "source": [
    "df.groupby([\"model_name\",\"transform__0__method_name\"])[\"data__keyword\"].count()"
   ]
  },
  {
   "cell_type": "code",
   "execution_count": null,
   "metadata": {},
   "outputs": [],
   "source": [
    "df.loc[\n",
    "    (df['data__method_name'] == 'openml_no_transform'),\n",
    "    ].groupby([\"data__keyword\", \"model_name\", \"transformed_target\"])['max_test_score'].min()"
   ]
  },
  {
   "cell_type": "code",
   "execution_count": null,
   "metadata": {},
   "outputs": [],
   "source": []
  },
  {
   "cell_type": "code",
   "execution_count": 37,
   "metadata": {},
   "outputs": [
    {
     "data": {
      "text/html": [
       "<div>\n",
       "<style scoped>\n",
       "    .dataframe tbody tr th:only-of-type {\n",
       "        vertical-align: middle;\n",
       "    }\n",
       "\n",
       "    .dataframe tbody tr th {\n",
       "        vertical-align: top;\n",
       "    }\n",
       "\n",
       "    .dataframe thead th {\n",
       "        text-align: right;\n",
       "    }\n",
       "</style>\n",
       "<table border=\"1\" class=\"dataframe\">\n",
       "  <thead>\n",
       "    <tr style=\"text-align: right;\">\n",
       "      <th></th>\n",
       "      <th>n_features</th>\n",
       "      <th>n_iter</th>\n",
       "      <th>n_test</th>\n",
       "      <th>n_train</th>\n",
       "    </tr>\n",
       "  </thead>\n",
       "  <tbody>\n",
       "    <tr>\n",
       "      <th>0</th>\n",
       "      <td>54.0</td>\n",
       "      <td>auto</td>\n",
       "      <td>33306.0</td>\n",
       "      <td>10000.0</td>\n",
       "    </tr>\n",
       "    <tr>\n",
       "      <th>1</th>\n",
       "      <td>7.0</td>\n",
       "      <td>auto</td>\n",
       "      <td>19932.0</td>\n",
       "      <td>10000.0</td>\n",
       "    </tr>\n",
       "    <tr>\n",
       "      <th>2</th>\n",
       "      <td>22.0</td>\n",
       "      <td>auto</td>\n",
       "      <td>2100.0</td>\n",
       "      <td>7000.0</td>\n",
       "    </tr>\n",
       "    <tr>\n",
       "      <th>3</th>\n",
       "      <td>8.0</td>\n",
       "      <td>auto</td>\n",
       "      <td>7444.0</td>\n",
       "      <td>10000.0</td>\n",
       "    </tr>\n",
       "    <tr>\n",
       "      <th>4</th>\n",
       "      <td>54.0</td>\n",
       "      <td>auto</td>\n",
       "      <td>33306.0</td>\n",
       "      <td>10000.0</td>\n",
       "    </tr>\n",
       "    <tr>\n",
       "      <th>...</th>\n",
       "      <td>...</td>\n",
       "      <td>...</td>\n",
       "      <td>...</td>\n",
       "      <td>...</td>\n",
       "    </tr>\n",
       "    <tr>\n",
       "      <th>380640</th>\n",
       "      <td>359.0</td>\n",
       "      <td>auto</td>\n",
       "      <td>885.0</td>\n",
       "      <td>2946.0</td>\n",
       "    </tr>\n",
       "    <tr>\n",
       "      <th>380641</th>\n",
       "      <td>11.0</td>\n",
       "      <td>auto</td>\n",
       "      <td>2246.0</td>\n",
       "      <td>7484.0</td>\n",
       "    </tr>\n",
       "    <tr>\n",
       "      <th>380642</th>\n",
       "      <td>4.0</td>\n",
       "      <td>auto</td>\n",
       "      <td>1816.0</td>\n",
       "      <td>6048.0</td>\n",
       "    </tr>\n",
       "    <tr>\n",
       "      <th>380643</th>\n",
       "      <td>7.0</td>\n",
       "      <td>auto</td>\n",
       "      <td>852.0</td>\n",
       "      <td>2836.0</td>\n",
       "    </tr>\n",
       "    <tr>\n",
       "      <th>380644</th>\n",
       "      <td>5.0</td>\n",
       "      <td>auto</td>\n",
       "      <td>50000.0</td>\n",
       "      <td>10000.0</td>\n",
       "    </tr>\n",
       "  </tbody>\n",
       "</table>\n",
       "<p>283209 rows × 4 columns</p>\n",
       "</div>"
      ],
      "text/plain": [
       "        n_features n_iter   n_test  n_train\n",
       "0             54.0   auto  33306.0  10000.0\n",
       "1              7.0   auto  19932.0  10000.0\n",
       "2             22.0   auto   2100.0   7000.0\n",
       "3              8.0   auto   7444.0  10000.0\n",
       "4             54.0   auto  33306.0  10000.0\n",
       "...            ...    ...      ...      ...\n",
       "380640       359.0   auto    885.0   2946.0\n",
       "380641        11.0   auto   2246.0   7484.0\n",
       "380642         4.0   auto   1816.0   6048.0\n",
       "380643         7.0   auto    852.0   2836.0\n",
       "380644         5.0   auto  50000.0  10000.0\n",
       "\n",
       "[283209 rows x 4 columns]"
      ]
     },
     "execution_count": 37,
     "metadata": {},
     "output_type": "execute_result"
    }
   ],
   "source": [
    "df[['n_features',\n",
    " 'n_iter',\n",
    " 'n_test',\n",
    " 'n_train']]"
   ]
  },
  {
   "cell_type": "code",
   "execution_count": 31,
   "metadata": {},
   "outputs": [
    {
     "data": {
      "text/plain": [
       "['...1',\n",
       " 'Unnamed: 0',\n",
       " '_runtime',\n",
       " '_step',\n",
       " '_timestamp',\n",
       " '_wandb',\n",
       " 'data__categorical',\n",
       " 'data__keyword',\n",
       " 'data__method_name',\n",
       " 'data__regression',\n",
       " 'data_generation_time',\n",
       " 'hp',\n",
       " 'max_test_samples',\n",
       " 'max_train_samples',\n",
       " 'max_val_samples',\n",
       " 'mean_r2_test',\n",
       " 'mean_r2_train',\n",
       " 'mean_r2_val',\n",
       " 'mean_test_score',\n",
       " 'mean_time',\n",
       " 'mean_train_score',\n",
       " 'mean_val_score',\n",
       " 'model__n_estimators',\n",
       " 'model_id',\n",
       " 'model_name',\n",
       " 'model_type',\n",
       " 'n_features',\n",
       " 'n_iter',\n",
       " 'n_test',\n",
       " 'n_train',\n",
       " 'one_hot_encoder',\n",
       " 'processor',\n",
       " 'regression',\n",
       " 'sweep_id',\n",
       " 'sweep_name',\n",
       " 'train_prop',\n",
       " 'transformed_target',\n",
       " 'use_gpu',\n",
       " 'val_test_prop',\n",
       " 'max_test_score',\n",
       " 'max_train_score',\n",
       " 'max_val_score',\n",
       " 'min_test_score',\n",
       " 'min_train_score',\n",
       " 'min_val_score',\n",
       " 'std_r2_test',\n",
       " 'std_r2_train',\n",
       " 'std_r2_val',\n",
       " 'std_test_score',\n",
       " 'std_time',\n",
       " 'std_train_score',\n",
       " 'std_val_score',\n",
       " 'test_scores',\n",
       " 'times',\n",
       " 'train_scores',\n",
       " 'val_scores',\n",
       " 'early_stopping_rounds',\n",
       " 'model__n_iter_no_change',\n",
       " 'model__validation_fraction',\n",
       " 'max_depth_temp',\n",
       " 'max_features_temp',\n",
       " 'model__bootstrap',\n",
       " 'model__criterion',\n",
       " 'model__min_impurity_decrease',\n",
       " 'model__min_samples_leaf',\n",
       " 'model__min_samples_split',\n",
       " 'model__max_depth',\n",
       " 'model__max_features',\n",
       " 'model__colsample_bylevel',\n",
       " 'model__colsample_bytree',\n",
       " 'model__gamma',\n",
       " 'model__learning_rate',\n",
       " 'model__min_child_weight',\n",
       " 'model__reg_alpha',\n",
       " 'model__reg_lambda',\n",
       " 'model__subsample',\n",
       " 'model__use_label_encoder',\n",
       " 'max_leaf_nodes_temp',\n",
       " 'model__loss',\n",
       " 'model__max_leaf_nodes',\n",
       " 'log_training',\n",
       " 'model__batch_size',\n",
       " 'model__device',\n",
       " 'model__lr',\n",
       " 'model__lr_scheduler',\n",
       " 'model__max_epochs',\n",
       " 'model__module__activation',\n",
       " 'model__module__d',\n",
       " 'model__module__d_embedding',\n",
       " 'model__module__d_hidden_factor',\n",
       " 'model__module__hidden_dropout',\n",
       " 'model__module__n_layers',\n",
       " 'model__module__normalization',\n",
       " 'model__module__residual_dropout',\n",
       " 'model__optimizer',\n",
       " 'model__optimizer__weight_decay',\n",
       " 'model__use_checkpoints',\n",
       " 'num_epochs',\n",
       " 'train_accuracy_vector',\n",
       " 'transform__0__apply_on',\n",
       " 'transform__0__method_name',\n",
       " 'transform__0__type',\n",
       " 'valid_accuracy_vector',\n",
       " 'd_token',\n",
       " 'model__module__attention_dropout',\n",
       " 'model__module__d_ffn_factor',\n",
       " 'model__module__d_token',\n",
       " 'model__module__ffn_dropout',\n",
       " 'model__module__initialization',\n",
       " 'model__module__kv_compression',\n",
       " 'model__module__kv_compression_sharing',\n",
       " 'model__module__n_heads',\n",
       " 'model__module__prenormalization',\n",
       " 'model__module__token_bias',\n",
       " 'model__args__batch_size',\n",
       " 'model__args__data_parallel',\n",
       " 'model__args__early_stopping_rounds',\n",
       " 'model__args__epochs',\n",
       " 'model__args__lr',\n",
       " 'model__args__model_name',\n",
       " 'model__args__num_classes',\n",
       " 'model__args__objective',\n",
       " 'model__args__use_gpu',\n",
       " 'model__args__val_batch_size',\n",
       " 'model__params__depth',\n",
       " 'model__params__dim',\n",
       " 'model__params__dropout',\n",
       " 'model__params__heads',\n",
       " 'Name',\n",
       " 'Agent',\n",
       " 'State',\n",
       " 'Notes',\n",
       " 'User',\n",
       " 'Tags',\n",
       " 'Created',\n",
       " 'Runtime',\n",
       " 'Sweep',\n",
       " 'model__module__d_layers',\n",
       " 'model__module__dropout',\n",
       " 'model__early_stopping',\n",
       " 'model__max_iter',\n",
       " 'dataset_name',\n",
       " '...143',\n",
       " 'step',\n",
       " 'valid_loss_vector',\n",
       " 'benchmark',\n",
       " '...147',\n",
       " 'data__n_features',\n",
       " 'data__n_samples',\n",
       " 'data__num_samples',\n",
       " 'model__clf_loss',\n",
       " 'model__module_d_token',\n",
       " 'model__n_features_per_subset',\n",
       " 'model__rotation_algo',\n",
       " 'model__wandb_run',\n",
       " 'model__weight_decay',\n",
       " 'model_module__initialization',\n",
       " 'model_module__prenormalization',\n",
       " 'target__method_name',\n",
       " 'target__n_periods',\n",
       " 'target__noise',\n",
       " 'target__period',\n",
       " 'target__period_size',\n",
       " 'train_set_prop',\n",
       " 'transform__0__max_rel_decrease',\n",
       " 'transform__0__multiplier',\n",
       " 'transform__1__method_name',\n",
       " 'transform__1__multiplier',\n",
       " 'transform__1__type',\n",
       " 'transform__2__method_name',\n",
       " 'transform__2__type',\n",
       " 'test_score',\n",
       " 'train_score',\n",
       " '...174',\n",
       " 'transform__0__n_iter',\n",
       " 'transform__1__num_features',\n",
       " 'transform__2__cov_mult',\n",
       " 'transform__2__covariance_estimation',\n",
       " 'transform__2__deactivated',\n",
       " '...180',\n",
       " '...181',\n",
       " 'model__alpha',\n",
       " 'model__class_weight',\n",
       " 'transform__0__model_to_use',\n",
       " 'transform__0__num_features_to_remove',\n",
       " 'transform__0__keep_removed_features',\n",
       " 'transform__1__max_rel_decrease',\n",
       " 'transform__1__n_iter',\n",
       " '...189',\n",
       " '...190',\n",
       " '...191',\n",
       " '...192',\n",
       " '...193',\n",
       " '...194',\n",
       " '...195',\n",
       " '...196',\n",
       " '...197',\n",
       " '...198',\n",
       " '...199',\n",
       " '...200',\n",
       " '...201',\n",
       " '...142',\n",
       " '...146',\n",
       " '...148']"
      ]
     },
     "execution_count": 31,
     "metadata": {},
     "output_type": "execute_result"
    }
   ],
   "source": [
    "df.columns.tolist()"
   ]
  },
  {
   "cell_type": "code",
   "execution_count": null,
   "metadata": {},
   "outputs": [],
   "source": []
  }
 ],
 "metadata": {
  "kernelspec": {
   "display_name": "gate_v2",
   "language": "python",
   "name": "python3"
  },
  "language_info": {
   "codemirror_mode": {
    "name": "ipython",
    "version": 3
   },
   "file_extension": ".py",
   "mimetype": "text/x-python",
   "name": "python",
   "nbconvert_exporter": "python",
   "pygments_lexer": "ipython3",
   "version": "3.10.11"
  },
  "orig_nbformat": 4
 },
 "nbformat": 4,
 "nbformat_minor": 2
}
