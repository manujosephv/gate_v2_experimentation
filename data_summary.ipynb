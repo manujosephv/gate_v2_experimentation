{
 "cells": [
  {
   "cell_type": "code",
   "execution_count": 1,
   "metadata": {},
   "outputs": [],
   "source": [
    "import numpy as np\n",
    "import pandas as pd\n",
    "import joblib\n",
    "from pathlib import Path"
   ]
  },
  {
   "cell_type": "code",
   "execution_count": 2,
   "metadata": {},
   "outputs": [],
   "source": [
    "DATA_PATH = Path(\"data\")"
   ]
  },
  {
   "cell_type": "code",
   "execution_count": 24,
   "metadata": {},
   "outputs": [],
   "source": [
    "# Iterate over all the folders in the data folder\n",
    "df_l = []\n",
    "for folder in DATA_PATH.iterdir():\n",
    "    config_files = list(folder.glob(\"*config*\"))\n",
    "    row_dict = {}\n",
    "    #Loading any one file cause its all the same\n",
    "    config = np.load(config_files[0], allow_pickle=True).item()\n",
    "    row_dict['dataset_name'] = config['dataset_name']\n",
    "    row_dict['type'] = \"classification\" if config[\"regression\"]==0 else \"regression\"\n",
    "    row_dict['has_categorical_features'] = \"data__categorical\" in config and config[\"data__categorical\"]==1\n",
    "    row_dict['n_folds'] = len(config_files)\n",
    "    #Loading any one train file\n",
    "    train = np.load(folder/\"x_train_fold_0.npy\", allow_pickle=True)\n",
    "    row_dict['n_features'] = train.shape[1]\n",
    "    row_dict['n_train'] = train.shape[0]\n",
    "    val = np.load(folder/\"x_val_fold_0.npy\", allow_pickle=True)\n",
    "    row_dict['n_val'] = val.shape[0]\n",
    "    test = np.load(folder/\"x_test_fold_0.npy\", allow_pickle=True)\n",
    "    row_dict['n_test'] = test.shape[0]\n",
    "    df_l.append(row_dict)"
   ]
  },
  {
   "cell_type": "code",
   "execution_count": 25,
   "metadata": {},
   "outputs": [
    {
     "data": {
      "text/html": [
       "<div>\n",
       "<style scoped>\n",
       "    .dataframe tbody tr th:only-of-type {\n",
       "        vertical-align: middle;\n",
       "    }\n",
       "\n",
       "    .dataframe tbody tr th {\n",
       "        vertical-align: top;\n",
       "    }\n",
       "\n",
       "    .dataframe thead th {\n",
       "        text-align: right;\n",
       "    }\n",
       "</style>\n",
       "<table border=\"1\" class=\"dataframe\">\n",
       "  <thead>\n",
       "    <tr style=\"text-align: right;\">\n",
       "      <th></th>\n",
       "      <th>dataset_name</th>\n",
       "      <th>type</th>\n",
       "      <th>has_categorical_features</th>\n",
       "      <th>n_folds</th>\n",
       "      <th>n_features</th>\n",
       "      <th>n_train</th>\n",
       "      <th>n_val</th>\n",
       "      <th>n_test</th>\n",
       "    </tr>\n",
       "  </thead>\n",
       "  <tbody>\n",
       "    <tr>\n",
       "      <th>0</th>\n",
       "      <td>jannis</td>\n",
       "      <td>classification</td>\n",
       "      <td>False</td>\n",
       "      <td>1</td>\n",
       "      <td>54</td>\n",
       "      <td>10000</td>\n",
       "      <td>14274</td>\n",
       "      <td>33306</td>\n",
       "    </tr>\n",
       "    <tr>\n",
       "      <th>1</th>\n",
       "      <td>wine_quality</td>\n",
       "      <td>regression</td>\n",
       "      <td>False</td>\n",
       "      <td>3</td>\n",
       "      <td>11</td>\n",
       "      <td>4547</td>\n",
       "      <td>585</td>\n",
       "      <td>1365</td>\n",
       "    </tr>\n",
       "    <tr>\n",
       "      <th>2</th>\n",
       "      <td>analcatdata_supreme</td>\n",
       "      <td>regression</td>\n",
       "      <td>True</td>\n",
       "      <td>5</td>\n",
       "      <td>7</td>\n",
       "      <td>2836</td>\n",
       "      <td>364</td>\n",
       "      <td>852</td>\n",
       "    </tr>\n",
       "    <tr>\n",
       "      <th>3</th>\n",
       "      <td>compas-two-years</td>\n",
       "      <td>classification</td>\n",
       "      <td>True</td>\n",
       "      <td>3</td>\n",
       "      <td>11</td>\n",
       "      <td>3476</td>\n",
       "      <td>447</td>\n",
       "      <td>1043</td>\n",
       "    </tr>\n",
       "    <tr>\n",
       "      <th>4</th>\n",
       "      <td>visualizing_soil</td>\n",
       "      <td>regression</td>\n",
       "      <td>True</td>\n",
       "      <td>3</td>\n",
       "      <td>4</td>\n",
       "      <td>6048</td>\n",
       "      <td>777</td>\n",
       "      <td>1816</td>\n",
       "    </tr>\n",
       "    <tr>\n",
       "      <th>5</th>\n",
       "      <td>sulfur</td>\n",
       "      <td>regression</td>\n",
       "      <td>False</td>\n",
       "      <td>3</td>\n",
       "      <td>6</td>\n",
       "      <td>7056</td>\n",
       "      <td>907</td>\n",
       "      <td>2118</td>\n",
       "    </tr>\n",
       "    <tr>\n",
       "      <th>6</th>\n",
       "      <td>heloc</td>\n",
       "      <td>classification</td>\n",
       "      <td>False</td>\n",
       "      <td>3</td>\n",
       "      <td>22</td>\n",
       "      <td>7000</td>\n",
       "      <td>900</td>\n",
       "      <td>2100</td>\n",
       "    </tr>\n",
       "    <tr>\n",
       "      <th>7</th>\n",
       "      <td>medical_charges</td>\n",
       "      <td>regression</td>\n",
       "      <td>False</td>\n",
       "      <td>1</td>\n",
       "      <td>3</td>\n",
       "      <td>10000</td>\n",
       "      <td>45919</td>\n",
       "      <td>50000</td>\n",
       "    </tr>\n",
       "    <tr>\n",
       "      <th>8</th>\n",
       "      <td>Brazilian_houses</td>\n",
       "      <td>regression</td>\n",
       "      <td>True</td>\n",
       "      <td>3</td>\n",
       "      <td>11</td>\n",
       "      <td>7484</td>\n",
       "      <td>962</td>\n",
       "      <td>2246</td>\n",
       "    </tr>\n",
       "    <tr>\n",
       "      <th>9</th>\n",
       "      <td>pol</td>\n",
       "      <td>classification</td>\n",
       "      <td>False</td>\n",
       "      <td>3</td>\n",
       "      <td>26</td>\n",
       "      <td>7057</td>\n",
       "      <td>907</td>\n",
       "      <td>2118</td>\n",
       "    </tr>\n",
       "    <tr>\n",
       "      <th>10</th>\n",
       "      <td>abalone</td>\n",
       "      <td>regression</td>\n",
       "      <td>True</td>\n",
       "      <td>3</td>\n",
       "      <td>11</td>\n",
       "      <td>7484</td>\n",
       "      <td>962</td>\n",
       "      <td>2246</td>\n",
       "    </tr>\n",
       "    <tr>\n",
       "      <th>11</th>\n",
       "      <td>MiniBooNE</td>\n",
       "      <td>classification</td>\n",
       "      <td>False</td>\n",
       "      <td>1</td>\n",
       "      <td>50</td>\n",
       "      <td>10000</td>\n",
       "      <td>18899</td>\n",
       "      <td>44099</td>\n",
       "    </tr>\n",
       "  </tbody>\n",
       "</table>\n",
       "</div>"
      ],
      "text/plain": [
       "           dataset_name            type  has_categorical_features  n_folds   \n",
       "0                jannis  classification                     False        1  \\\n",
       "1          wine_quality      regression                     False        3   \n",
       "2   analcatdata_supreme      regression                      True        5   \n",
       "3      compas-two-years  classification                      True        3   \n",
       "4      visualizing_soil      regression                      True        3   \n",
       "5                sulfur      regression                     False        3   \n",
       "6                 heloc  classification                     False        3   \n",
       "7       medical_charges      regression                     False        1   \n",
       "8      Brazilian_houses      regression                      True        3   \n",
       "9                   pol  classification                     False        3   \n",
       "10              abalone      regression                      True        3   \n",
       "11            MiniBooNE  classification                     False        1   \n",
       "\n",
       "    n_features  n_train  n_val  n_test  \n",
       "0           54    10000  14274   33306  \n",
       "1           11     4547    585    1365  \n",
       "2            7     2836    364     852  \n",
       "3           11     3476    447    1043  \n",
       "4            4     6048    777    1816  \n",
       "5            6     7056    907    2118  \n",
       "6           22     7000    900    2100  \n",
       "7            3    10000  45919   50000  \n",
       "8           11     7484    962    2246  \n",
       "9           26     7057    907    2118  \n",
       "10          11     7484    962    2246  \n",
       "11          50    10000  18899   44099  "
      ]
     },
     "execution_count": 25,
     "metadata": {},
     "output_type": "execute_result"
    }
   ],
   "source": [
    "data_summary_df = pd.DataFrame(df_l)\n",
    "data_summary_df"
   ]
  },
  {
   "cell_type": "code",
   "execution_count": 1,
   "metadata": {},
   "outputs": [
    {
     "name": "stdout",
     "output_type": "stream",
     "text": [
      "{'ok': True, 'result': [{'update_id': 447952108, 'message': {'message_id': 3, 'from': {'id': 790388072, 'is_bot': False, 'first_name': '...', 'username': 'manujosephv', 'language_code': 'en'}, 'chat': {'id': 790388072, 'first_name': '...', 'username': 'manujosephv', 'type': 'private'}, 'date': 1685840901, 'text': 'Helloo'}}, {'update_id': 447952109, 'message': {'message_id': 6, 'from': {'id': 790388072, 'is_bot': False, 'first_name': '...', 'username': 'manujosephv', 'language_code': 'en'}, 'chat': {'id': 790388072, 'first_name': '...', 'username': 'manujosephv', 'type': 'private'}, 'date': 1685851915, 'photo': [{'file_id': 'AgACAgUAAxkBAAMGZHwPCy1ErQwBsQm4AAF1NU8avpCrAAIHszEbdgXhV2O307iIvdtbAQADAgADcwADLwQ', 'file_unique_id': 'AQADB7MxG3YF4Vd4', 'file_size': 1606, 'width': 90, 'height': 82}, {'file_id': 'AgACAgUAAxkBAAMGZHwPCy1ErQwBsQm4AAF1NU8avpCrAAIHszEbdgXhV2O307iIvdtbAQADAgADbQADLwQ', 'file_unique_id': 'AQADB7MxG3YF4Vdy', 'file_size': 40564, 'width': 320, 'height': 293}, {'file_id': 'AgACAgUAAxkBAAMGZHwPCy1ErQwBsQm4AAF1NU8avpCrAAIHszEbdgXhV2O307iIvdtbAQADAgADeAADLwQ', 'file_unique_id': 'AQADB7MxG3YF4Vd9', 'file_size': 230500, 'width': 800, 'height': 733}, {'file_id': 'AgACAgUAAxkBAAMGZHwPCy1ErQwBsQm4AAF1NU8avpCrAAIHszEbdgXhV2O307iIvdtbAQADAgADeQADLwQ', 'file_unique_id': 'AQADB7MxG3YF4Vd-', 'file_size': 267822, 'width': 876, 'height': 803}]}}]}\n"
     ]
    }
   ],
   "source": [
    "import requests\n",
    "TOKEN = \"6069721026:AAG5mDHXLhRKjFOwNrhsz0KMxTus9S9uV24\"\n",
    "url = f\"https://api.telegram.org/bot{TOKEN}/getUpdates\"\n",
    "print(requests.get(url).json())"
   ]
  },
  {
   "cell_type": "code",
   "execution_count": 2,
   "metadata": {},
   "outputs": [],
   "source": [
    "chat_id = 790388072"
   ]
  },
  {
   "cell_type": "code",
   "execution_count": 3,
   "metadata": {},
   "outputs": [
    {
     "name": "stdout",
     "output_type": "stream",
     "text": [
      "{'ok': True, 'result': {'message_id': 7, 'from': {'id': 6069721026, 'is_bot': True, 'first_name': 'Training Complete', 'username': 'knock_knock_done_bot'}, 'chat': {'id': 790388072, 'first_name': '...', 'username': 'manujosephv', 'type': 'private'}, 'date': 1685874075, 'text': 'hello from your telegram bot'}}\n"
     ]
    }
   ],
   "source": [
    "import requests\n",
    "message = \"hello from your telegram bot\"\n",
    "url = f\"https://api.telegram.org/bot{TOKEN}/sendMessage?chat_id={chat_id}&text={message}\"\n",
    "print(requests.get(url).json()) # this sends the message"
   ]
  },
  {
   "cell_type": "code",
   "execution_count": 7,
   "metadata": {},
   "outputs": [
    {
     "data": {
      "text/plain": [
       "<Response [200]>"
      ]
     },
     "execution_count": 7,
     "metadata": {},
     "output_type": "execute_result"
    }
   ],
   "source": [
    "requests.get(url)"
   ]
  },
  {
   "cell_type": "code",
   "execution_count": null,
   "metadata": {},
   "outputs": [],
   "source": []
  }
 ],
 "metadata": {
  "kernelspec": {
   "display_name": "gate_v2",
   "language": "python",
   "name": "python3"
  },
  "language_info": {
   "codemirror_mode": {
    "name": "ipython",
    "version": 3
   },
   "file_extension": ".py",
   "mimetype": "text/x-python",
   "name": "python",
   "nbconvert_exporter": "python",
   "pygments_lexer": "ipython3",
   "version": "3.10.9"
  },
  "orig_nbformat": 4
 },
 "nbformat": 4,
 "nbformat_minor": 2
}
